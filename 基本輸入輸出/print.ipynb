{
 "cells": [
  {
   "cell_type": "markdown",
   "metadata": {},
   "source": [
    "# print\n",
    "\n",
    "print提供3個參數，格式如下：\n",
    "\n",
    "<code>print(變數,Sep=\"分隔符號\",end=\"結束符號\"）</code>\n",
    "\n",
    "一般使用上，會輸入出多個變數，就用逗號隔開，例如："
   ]
  },
  {
   "cell_type": "code",
   "execution_count": 1,
   "metadata": {},
   "outputs": [
    {
     "name": "stdout",
     "output_type": "stream",
     "text": [
      "3 4\n",
      "7\n",
      "3%4\n"
     ]
    }
   ],
   "source": [
    "a=3\n",
    "b=4\n",
    "print(a,b)\n",
    "print(a+b)\n",
    "print(a,b,sep='%')"
   ]
  },
  {
   "cell_type": "markdown",
   "metadata": {},
   "source": [
    "<ul>\n",
    "    <li>分隔符號預設是空白</li>\n",
    "    <li>結束符號預設是換行 '\\n'</li>\n",
    "</ul>\n",
    "\n",
    "print()預設會讓列印自動跳下一行，等於print('\\n')"
   ]
  },
  {
   "cell_type": "code",
   "execution_count": 3,
   "metadata": {},
   "outputs": [
    {
     "name": "stdout",
     "output_type": "stream",
     "text": [
      "印出字串1\n",
      "印出字串2\n"
     ]
    }
   ],
   "source": [
    "print('印出字串1')\n",
    "print('印出字串2')"
   ]
  },
  {
   "cell_type": "code",
   "execution_count": 4,
   "metadata": {},
   "outputs": [
    {
     "name": "stdout",
     "output_type": "stream",
     "text": [
      "印出字串1,印出字串2。"
     ]
    }
   ],
   "source": [
    "print('印出字串1',end=',')\n",
    "print('印出字串2',end='。') #可以試著換一下其他符號，試試效果"
   ]
  },
  {
   "cell_type": "markdown",
   "metadata": {},
   "source": [
    "## 格式化的輸出方式\n",
    "\n",
    "有以下幾種方式可以輸出：\n",
    "<code>\n",
    "    a=34\n",
    "    b=80\n",
    "    print('阿明的成績是：'+str(a)+'阿華的成績是'+str(b))\n",
    "    print('阿明的成績是：',a,'阿華的成績是',b)\n",
    "    print('阿明的成績是：{} 阿華的成績是 {}'.format(a,b))\n",
    "    print(f'阿明的成績是：{a} 阿華的成績是 {b}')\n",
    "</code>"
   ]
  },
  {
   "cell_type": "code",
   "execution_count": 5,
   "metadata": {},
   "outputs": [
    {
     "name": "stdout",
     "output_type": "stream",
     "text": [
      "阿明的成績是：34阿華的成績是80\n"
     ]
    }
   ],
   "source": [
    "a=34\n",
    "b=80\n",
    "print('阿明的成績是：'+str(a)+'阿華的成績是'+str(b)) #使用'+'一定要將變數轉型成字串型態才能使用，而且中間不會加空白"
   ]
  },
  {
   "cell_type": "code",
   "execution_count": 6,
   "metadata": {},
   "outputs": [
    {
     "name": "stdout",
     "output_type": "stream",
     "text": [
      "阿明的成績是： 34 阿華的成績是 80\n"
     ]
    }
   ],
   "source": [
    "print('阿明的成績是：',a,'阿華的成績是',b) #使用',' 程式會自動幫忙將變數轉型成字串，但同時也會加上空白"
   ]
  },
  {
   "cell_type": "code",
   "execution_count": 7,
   "metadata": {},
   "outputs": [
    {
     "name": "stdout",
     "output_type": "stream",
     "text": [
      "阿明的成績是：34 阿華的成績是 80\n"
     ]
    }
   ],
   "source": [
    "print('阿明的成績是：{} 阿華的成績是 {}'.format(a,b)) #克漏字填充題的對應方式填入變數"
   ]
  },
  {
   "cell_type": "code",
   "execution_count": 38,
   "metadata": {},
   "outputs": [
    {
     "name": "stdout",
     "output_type": "stream",
     "text": [
      "阿明的成績是：5678 阿華的成績是 56.78\n"
     ]
    }
   ],
   "source": [
    "print(f'阿明的成績是：{a} 阿華的成績是 {b}') #這是上面格式的簡化版本"
   ]
  },
  {
   "cell_type": "markdown",
   "metadata": {},
   "source": [
    "## 跳脫字元 Escape\n",
    "\n",
    "有些字元受限於語法，沒辦法直接輸出，故需要跳脫字元，以下是幾個跳脫字元\n",
    "\n",
    "<table>\n",
    "    <tr><td>跳脫字元</td><td>代表字元</td><td>跳脫字元</td><td>代表字元</td></tr>\n",
    "    <tr><td>\\\\</td><td>反斜線\\</td><td>\\n</td><td>換行</td></tr>\n",
    "    <tr><td>\\'</td><td>單引號'</td><td>\\r</td><td>Return</td></tr>\n",
    "    <tr><td>\\\"</td><td>雙引號\"</td><td>\\t</td><td>定位 tab鍵</td></tr>\n",
    "    <tr><td>\\a</td><td>喇叭嗶聲</td><td>\\ooo</td><td>8進制</td></tr>\n",
    "    <tr><td>\\b</td><td>退位</td><td>\\xhh</td><td>16進制</td></tr>\n",
    "    <tr><td>\\f</td><td>跳下一頁</td><td>\\x41</td><td>A (ASCII code的A)</td></tr>\n",
    "</table>"
   ]
  },
  {
   "cell_type": "code",
   "execution_count": 15,
   "metadata": {},
   "outputs": [
    {
     "name": "stdout",
     "output_type": "stream",
     "text": [
      "A\n"
     ]
    }
   ],
   "source": [
    "print('\\x41')"
   ]
  },
  {
   "cell_type": "code",
   "execution_count": 16,
   "metadata": {},
   "outputs": [
    {
     "name": "stdout",
     "output_type": "stream",
     "text": [
      "B\n"
     ]
    }
   ],
   "source": [
    "print('\\x42')"
   ]
  },
  {
   "cell_type": "markdown",
   "metadata": {},
   "source": [
    "## 格式化輸出與%的用法\n",
    "\n",
    "<table>\n",
    "<tr><td>參數</td><td>格式描述</td><td>實例</td></tr>\n",
    "<tr><td>:c</td><td>輸出字元或ASCII碼</td><td>a=65<br>print('{:c}'.format(65))<br>A</td></tr>\n",
    "<tr><td>:s</td><td>輸出字串</td><td>print('I am {:s}, I am {:d} years old.'.format('Bob',18))<br>I am Bob, I am 18 years old.</td></tr>\n",
    "<tr><td>:o</td><td>8進制整數</td><td>print('{:o}'.format(65))<br>101</td></tr>\n",
    "<tr><td>:d</td><td>10進制整數</td><td>print('{:d}'.format(65))<br>65</td></tr>\n",
    "<tr><td>:x</td><td>16進制整數</td><td>print('{:x}'.format(65))<br>41</td></tr>\n",
    "<tr><td>:f</td><td>浮點數</td><td>print('{:f}'.format(65.1))<br>65.100000</td></tr>\n",
    "<tr><td>:e</td><td>浮點數(科學計數法)</td><td>print('{:e}'.format(65.1))<br>6.510000e+01</td></tr>\n",
    "</table>"
   ]
  },
  {
   "cell_type": "code",
   "execution_count": 9,
   "metadata": {},
   "outputs": [
    {
     "name": "stdout",
     "output_type": "stream",
     "text": [
      "A\n",
      "A\n"
     ]
    }
   ],
   "source": [
    "a=65\n",
    "print('{:c}'.format(a))\n",
    "print(f'{a:c}') #上下兩行的結果是一樣"
   ]
  },
  {
   "cell_type": "code",
   "execution_count": 10,
   "metadata": {},
   "outputs": [
    {
     "name": "stdout",
     "output_type": "stream",
     "text": [
      "I am Bob, I am 18 years old.\n",
      "I am Bob, I am 18 years old.\n"
     ]
    }
   ],
   "source": [
    "name='Bob'\n",
    "age=18\n",
    "print('I am {:s}, I am {:d} years old.'.format(name,age))\n",
    "print(f'I am {name:s}, I am {age:d} years old.')"
   ]
  },
  {
   "cell_type": "code",
   "execution_count": 18,
   "metadata": {},
   "outputs": [
    {
     "name": "stdout",
     "output_type": "stream",
     "text": [
      "101\n",
      "101\n"
     ]
    }
   ],
   "source": [
    "num=65\n",
    "print('{:o}'.format(num)) #:o是八進位格式\n",
    "print(f'{num:o}')"
   ]
  },
  {
   "cell_type": "code",
   "execution_count": 19,
   "metadata": {},
   "outputs": [
    {
     "name": "stdout",
     "output_type": "stream",
     "text": [
      "65\n",
      "65\n"
     ]
    }
   ],
   "source": [
    "print('{:d}'.format(num)) #:d是十進位格式\n",
    "print(f'{num:d}')"
   ]
  },
  {
   "cell_type": "code",
   "execution_count": 20,
   "metadata": {},
   "outputs": [
    {
     "name": "stdout",
     "output_type": "stream",
     "text": [
      "41\n",
      "41\n"
     ]
    }
   ],
   "source": [
    "print('{:x}'.format(num))#:x是十六進位格式\n",
    "print(f'{num:x}')"
   ]
  },
  {
   "cell_type": "code",
   "execution_count": 24,
   "metadata": {},
   "outputs": [
    {
     "name": "stdout",
     "output_type": "stream",
     "text": [
      "65.100000\n",
      "65.100000\n"
     ]
    }
   ],
   "source": [
    "fnum=65.1\n",
    "print('{:f}'.format(fnum)) #:f是浮點數格式\n",
    "print(f'{fnum:f}')"
   ]
  },
  {
   "cell_type": "code",
   "execution_count": 27,
   "metadata": {},
   "outputs": [
    {
     "name": "stdout",
     "output_type": "stream",
     "text": [
      "6.510000e+01\n",
      "6.510000e+01\n"
     ]
    }
   ],
   "source": [
    "print('{:e}'.format(fnum))#:e是科學記號，e代表10的幾次方\n",
    "print(f'{fnum:e}')"
   ]
  },
  {
   "cell_type": "markdown",
   "metadata": {},
   "source": [
    "## 長度與格式設定"
   ]
  },
  {
   "cell_type": "code",
   "execution_count": 28,
   "metadata": {},
   "outputs": [],
   "source": [
    "a=5678\n",
    "b=56.78"
   ]
  },
  {
   "cell_type": "code",
   "execution_count": 29,
   "metadata": {},
   "outputs": [
    {
     "name": "stdout",
     "output_type": "stream",
     "text": [
      "    5678\n",
      "    5678\n"
     ]
    }
   ],
   "source": [
    "print('{:8d}'.format(a)) #預設靠右對齊\n",
    "print(f'{a:8d}')"
   ]
  },
  {
   "cell_type": "code",
   "execution_count": 31,
   "metadata": {},
   "outputs": [
    {
     "name": "stdout",
     "output_type": "stream",
     "text": [
      "  5678  \n",
      "  5678  \n"
     ]
    }
   ],
   "source": [
    "print('{:^8d}'.format(a)) #置中對齊\n",
    "print(f'{a:^8d}')"
   ]
  },
  {
   "cell_type": "code",
   "execution_count": 32,
   "metadata": {},
   "outputs": [
    {
     "name": "stdout",
     "output_type": "stream",
     "text": [
      "5678    \n",
      "5678    \n"
     ]
    }
   ],
   "source": [
    "print('{:<8d}'.format(a)) #靠左對齊\n",
    "print(f'{a:<8d}')"
   ]
  },
  {
   "cell_type": "code",
   "execution_count": 33,
   "metadata": {},
   "outputs": [
    {
     "name": "stdout",
     "output_type": "stream",
     "text": [
      "  56.78\n",
      "  56.78\n"
     ]
    }
   ],
   "source": [
    "print('{:7.2f}'.format(b)) # 長度為7，小數點留2位，靠右對齊\n",
    "print(f'{b:7.2f}')"
   ]
  },
  {
   "cell_type": "code",
   "execution_count": 34,
   "metadata": {},
   "outputs": [
    {
     "name": "stdout",
     "output_type": "stream",
     "text": [
      "    56.780\n",
      "    56.780\n"
     ]
    }
   ],
   "source": [
    "print('{:10.3f}'.format(b))# 長度為10，小數點留3位，靠右對齊\n",
    "print(f'{b:10.3f}')"
   ]
  },
  {
   "cell_type": "code",
   "execution_count": 35,
   "metadata": {},
   "outputs": [
    {
     "name": "stdout",
     "output_type": "stream",
     "text": [
      "   56.7800\n",
      "   56.7800\n"
     ]
    }
   ],
   "source": [
    "print('{:10.4f}'.format(b))# 長度為10，小數點留4位，靠右對齊\n",
    "print(f'{b:10.4f}')"
   ]
  },
  {
   "cell_type": "code",
   "execution_count": 36,
   "metadata": {},
   "outputs": [
    {
     "name": "stdout",
     "output_type": "stream",
     "text": [
      " 56.7800  \n",
      " 56.7800  \n"
     ]
    }
   ],
   "source": [
    "print('{:^10.4f}'.format(b))# 長度為10，小數點留4位，置中對齊\n",
    "print(f'{b:^10.4f}')"
   ]
  },
  {
   "cell_type": "code",
   "execution_count": 37,
   "metadata": {},
   "outputs": [
    {
     "name": "stdout",
     "output_type": "stream",
     "text": [
      "56.7800   \n",
      "56.7800   \n"
     ]
    }
   ],
   "source": [
    "print('{:<10.4f}'.format(b))# 長度為10，小數點留4位，靠左對齊\n",
    "print(f'{b:<10.4f}')"
   ]
  },
  {
   "cell_type": "code",
   "execution_count": null,
   "metadata": {},
   "outputs": [],
   "source": []
  }
 ],
 "metadata": {
  "kernelspec": {
   "display_name": "Python 3 (ipykernel)",
   "language": "python",
   "name": "python3"
  },
  "language_info": {
   "codemirror_mode": {
    "name": "ipython",
    "version": 3
   },
   "file_extension": ".py",
   "mimetype": "text/x-python",
   "name": "python",
   "nbconvert_exporter": "python",
   "pygments_lexer": "ipython3",
   "version": "3.9.12"
  }
 },
 "nbformat": 4,
 "nbformat_minor": 4
}
