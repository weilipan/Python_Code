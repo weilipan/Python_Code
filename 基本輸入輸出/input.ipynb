{
 "cells": [
  {
   "cell_type": "markdown",
   "metadata": {},
   "source": [
    "# input\n",
    "\n",
    "input指令又有兩種輸入方法:「隱性輸入」和「顯性輸入」。\n",
    "\n",
    "隱性輸入就是n=input()的指令，執行後會出現游標等待輸入，一般人不會知道要輸入什麼資料。\n",
    "\n",
    "顯性輸入就是n=input('請輸入你的年齡：')\n",
    "顯性輸入在輸入時會先列印出提示語。"
   ]
  },
  {
   "cell_type": "code",
   "execution_count": 2,
   "metadata": {},
   "outputs": [
    {
     "name": "stdin",
     "output_type": "stream",
     "text": [
      " 15\n"
     ]
    },
    {
     "name": "stdout",
     "output_type": "stream",
     "text": [
      "你是15歲\n",
      "你是15歲\n"
     ]
    }
   ],
   "source": [
    "n=input()\n",
    "print('你是{}歲'.format(n))\n",
    "print(f'你是{n}歲')"
   ]
  },
  {
   "cell_type": "code",
   "execution_count": 3,
   "metadata": {},
   "outputs": [
    {
     "name": "stdin",
     "output_type": "stream",
     "text": [
      "請輸入你的年齡： 20\n"
     ]
    },
    {
     "name": "stdout",
     "output_type": "stream",
     "text": [
      "你是20歲\n",
      "你是20歲\n"
     ]
    }
   ],
   "source": [
    "n=input('請輸入你的年齡：')\n",
    "print('你是{}歲'.format(n))\n",
    "print(f'你是{n}歲')"
   ]
  },
  {
   "cell_type": "markdown",
   "metadata": {},
   "source": [
    "input()指令預設讀入的資料是字串，所以要做運算時，一定要先經過轉型，不然會出現錯誤。"
   ]
  },
  {
   "cell_type": "code",
   "execution_count": 5,
   "metadata": {},
   "outputs": [
    {
     "name": "stdin",
     "output_type": "stream",
     "text": [
      " 23\n",
      " 45\n"
     ]
    },
    {
     "name": "stdout",
     "output_type": "stream",
     "text": [
      "2345\n"
     ]
    }
   ],
   "source": [
    "a1=input()\n",
    "a2=input()\n",
    "print(a1+a2)"
   ]
  },
  {
   "cell_type": "code",
   "execution_count": 6,
   "metadata": {},
   "outputs": [
    {
     "name": "stdin",
     "output_type": "stream",
     "text": [
      " 20\n",
      " 30\n"
     ]
    },
    {
     "name": "stdout",
     "output_type": "stream",
     "text": [
      "50\n"
     ]
    }
   ],
   "source": [
    "a1=input()\n",
    "a2=input()\n",
    "print(int(a1)+int(a2))"
   ]
  },
  {
   "cell_type": "code",
   "execution_count": 7,
   "metadata": {},
   "outputs": [
    {
     "name": "stdin",
     "output_type": "stream",
     "text": [
      " 20\n",
      " 30\n"
     ]
    },
    {
     "name": "stdout",
     "output_type": "stream",
     "text": [
      "50\n"
     ]
    }
   ],
   "source": [
    "a1=int(input())\n",
    "a2=int(input())\n",
    "print(a1+a2)"
   ]
  },
  {
   "cell_type": "markdown",
   "metadata": {},
   "source": [
    "## 如果要參加線上競賽 APCS 或資訊能力競賽\n",
    "\n",
    "一定要會以下讀取測資的語法：\n",
    "\n",
    "<ol>\n",
    "    <li>文字字串轉成數值串列</li>\n",
    "    <li>文字字串轉成文字串列</li>\n",
    "    <li>文字串列轉成文字字串</li>\n",
    "    <li>數值串列轉成文字字串</li>\n",
    "    <li>文字字串前後空白去除</li>\n",
    "</ol>"
   ]
  },
  {
   "cell_type": "markdown",
   "metadata": {},
   "source": [
    "### 1.文字字串轉成數值串列"
   ]
  },
  {
   "cell_type": "code",
   "execution_count": 10,
   "metadata": {},
   "outputs": [
    {
     "name": "stdin",
     "output_type": "stream",
     "text": [
      " 546 854 62 83 67 25 456 132\n"
     ]
    }
   ],
   "source": [
    "#如果要讀入一串以空白隔開的數字 546 854 62 83 67 25 456 132\n",
    "int_data=list(map(int,input().split())) #讀入之後拆開為整數串列"
   ]
  },
  {
   "cell_type": "code",
   "execution_count": 11,
   "metadata": {},
   "outputs": [
    {
     "name": "stdout",
     "output_type": "stream",
     "text": [
      "[546, 854, 62, 83, 67, 25, 456, 132]\n"
     ]
    }
   ],
   "source": [
    "print(int_data)"
   ]
  },
  {
   "cell_type": "code",
   "execution_count": 12,
   "metadata": {},
   "outputs": [
    {
     "name": "stdin",
     "output_type": "stream",
     "text": [
      " 546 854 62 83 67 25 456 132\n"
     ]
    }
   ],
   "source": [
    "float_data=list(map(float,input().split())) #讀入之後拆開為浮點數串列"
   ]
  },
  {
   "cell_type": "code",
   "execution_count": 13,
   "metadata": {},
   "outputs": [
    {
     "name": "stdout",
     "output_type": "stream",
     "text": [
      "[546.0, 854.0, 62.0, 83.0, 67.0, 25.0, 456.0, 132.0]\n"
     ]
    }
   ],
   "source": [
    "print(float_data)"
   ]
  },
  {
   "cell_type": "markdown",
   "metadata": {},
   "source": [
    "### 2.文字字串轉成文字串列"
   ]
  },
  {
   "cell_type": "code",
   "execution_count": 17,
   "metadata": {},
   "outputs": [
    {
     "name": "stdin",
     "output_type": "stream",
     "text": [
      " asdflkhaspodfhiqo hpodhfpashfd\n"
     ]
    }
   ],
   "source": [
    "charlist=list(input()) #將字串轉成字元串列"
   ]
  },
  {
   "cell_type": "code",
   "execution_count": 18,
   "metadata": {},
   "outputs": [
    {
     "name": "stdout",
     "output_type": "stream",
     "text": [
      "['a', 's', 'd', 'f', 'l', 'k', 'h', 'a', 's', 'p', 'o', 'd', 'f', 'h', 'i', 'q', 'o', ' ', 'h', 'p', 'o', 'd', 'h', 'f', 'p', 'a', 's', 'h', 'f', 'd']\n"
     ]
    }
   ],
   "source": [
    "print(charlist)"
   ]
  },
  {
   "cell_type": "code",
   "execution_count": 19,
   "metadata": {},
   "outputs": [
    {
     "name": "stdin",
     "output_type": "stream",
     "text": [
      " this is a book\n"
     ]
    }
   ],
   "source": [
    "strlist=list(input().split()) #將字串利用空白切開成串列"
   ]
  },
  {
   "cell_type": "code",
   "execution_count": 20,
   "metadata": {},
   "outputs": [
    {
     "name": "stdout",
     "output_type": "stream",
     "text": [
      "['this', 'is', 'a', 'book']\n"
     ]
    }
   ],
   "source": [
    "print(strlist)"
   ]
  },
  {
   "cell_type": "code",
   "execution_count": 21,
   "metadata": {},
   "outputs": [
    {
     "name": "stdin",
     "output_type": "stream",
     "text": [
      " this,is,a,book\n"
     ]
    }
   ],
   "source": [
    "strlist=list(input().split(',')) #將字串利用間隔符號切開成串列"
   ]
  },
  {
   "cell_type": "code",
   "execution_count": 22,
   "metadata": {},
   "outputs": [
    {
     "name": "stdout",
     "output_type": "stream",
     "text": [
      "['this', 'is', 'a', 'book']\n"
     ]
    }
   ],
   "source": [
    "print(strlist)"
   ]
  },
  {
   "cell_type": "markdown",
   "metadata": {},
   "source": [
    "### 3.文字串列轉成文字字串"
   ]
  },
  {
   "cell_type": "code",
   "execution_count": 25,
   "metadata": {},
   "outputs": [],
   "source": [
    "strlist=[\"Lisa\",\"is\",\"30\",\"years\",\"old\"] \n",
    "allstr=':'.join(numlist) #以\":\"當成結合符號，將串列轉成字串"
   ]
  },
  {
   "cell_type": "code",
   "execution_count": 26,
   "metadata": {},
   "outputs": [
    {
     "name": "stdout",
     "output_type": "stream",
     "text": [
      "Lisa:is:30:years:old\n"
     ]
    }
   ],
   "source": [
    "print(allstr)"
   ]
  },
  {
   "cell_type": "code",
   "execution_count": 29,
   "metadata": {},
   "outputs": [],
   "source": [
    "strlist=[\"Lisa\",\"is\",\"30\",\"years\",\"old\"]\n",
    "allstr=','.join(numlist) #以\",\"當成結合符號，將串列轉成字串"
   ]
  },
  {
   "cell_type": "code",
   "execution_count": 30,
   "metadata": {},
   "outputs": [
    {
     "name": "stdout",
     "output_type": "stream",
     "text": [
      "Lisa,is,30,years,old\n"
     ]
    }
   ],
   "source": [
    "print(allstr)"
   ]
  },
  {
   "cell_type": "markdown",
   "metadata": {},
   "source": [
    "### 4.數值串列轉成文字字串"
   ]
  },
  {
   "cell_type": "code",
   "execution_count": 31,
   "metadata": {},
   "outputs": [],
   "source": [
    "numlist=[20,40,34.5,100,60.0,34.56]\n",
    "#因為數字不能直接使用join，必須先將數值串列轉換為字串串列，再轉換為文字字串\n",
    "strall=','.join(map(str,numlist))"
   ]
  },
  {
   "cell_type": "code",
   "execution_count": 32,
   "metadata": {},
   "outputs": [
    {
     "name": "stdout",
     "output_type": "stream",
     "text": [
      "20,40,34.5,100,60.0,34.56\n"
     ]
    }
   ],
   "source": [
    "print(strall)"
   ]
  },
  {
   "cell_type": "code",
   "execution_count": 33,
   "metadata": {},
   "outputs": [],
   "source": [
    "strall=':'.join(map(str,numlist))"
   ]
  },
  {
   "cell_type": "code",
   "execution_count": 34,
   "metadata": {},
   "outputs": [
    {
     "name": "stdout",
     "output_type": "stream",
     "text": [
      "20:40:34.5:100:60.0:34.56\n"
     ]
    }
   ],
   "source": [
    "print(strall)"
   ]
  },
  {
   "cell_type": "markdown",
   "metadata": {},
   "source": [
    "### 5.文字字串前後空白去除"
   ]
  },
  {
   "cell_type": "code",
   "execution_count": 36,
   "metadata": {},
   "outputs": [],
   "source": [
    "strtest=\" this is a book\""
   ]
  },
  {
   "cell_type": "code",
   "execution_count": 39,
   "metadata": {},
   "outputs": [
    {
     "name": "stdout",
     "output_type": "stream",
     "text": [
      "this is a book\n"
     ]
    }
   ],
   "source": [
    "print(strtest.strip()) #前後空白去除"
   ]
  },
  {
   "cell_type": "code",
   "execution_count": 41,
   "metadata": {},
   "outputs": [
    {
     "name": "stdout",
     "output_type": "stream",
     "text": [
      "this is a book\n"
     ]
    }
   ],
   "source": [
    "print(strtest.lstrip()) #左空白去除"
   ]
  },
  {
   "cell_type": "code",
   "execution_count": 42,
   "metadata": {},
   "outputs": [
    {
     "name": "stdout",
     "output_type": "stream",
     "text": [
      " this is a book\n"
     ]
    }
   ],
   "source": [
    "print(strtest.rstrip()) #右空白去除"
   ]
  },
  {
   "cell_type": "code",
   "execution_count": null,
   "metadata": {},
   "outputs": [],
   "source": []
  }
 ],
 "metadata": {
  "kernelspec": {
   "display_name": "Python 3 (ipykernel)",
   "language": "python",
   "name": "python3"
  },
  "language_info": {
   "codemirror_mode": {
    "name": "ipython",
    "version": 3
   },
   "file_extension": ".py",
   "mimetype": "text/x-python",
   "name": "python",
   "nbconvert_exporter": "python",
   "pygments_lexer": "ipython3",
   "version": "3.9.12"
  }
 },
 "nbformat": 4,
 "nbformat_minor": 4
}
